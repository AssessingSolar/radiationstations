{
 "cells": [
  {
   "cell_type": "markdown",
   "id": "cb2fcaa3",
   "metadata": {},
   "source": [
    "# Introduction\n",
    "\n",
    "Ground measured solar irradiance data is extremely valuable and critical for benchmarking solar radiation products, modeling climate processes, and understanding the Earth's radiation budget. However, due to high costs and maintenance requirements, there are only a few hundred high-quality stations globally. Partly due to the scarcity, it has historically been difficult to determine if and where there is a nearby solar radiation monitoring station. To address this, this site provides an overview of high-quality solar radiation monitoring stations worldwide and supporting metadata.\n",
    "\n",
    "A complete list of stations and metadata can be found [here](../station_listing).\n",
    "\n",
    "To find the nearest station to a point of interest, check out the interactive map below. Note that it is possible to click on a station icon to get the station name and country."
   ]
  },
  {
   "cell_type": "markdown",
   "id": "a6627710",
   "metadata": {
    "tags": [
     "margin"
    ]
   },
   "source": [
    "```{margin} Map backgrounds\n",
    "When zooming in on a specific station, consider switching to the satellite image or annual irradiance backgrounds (top right corner).\n",
    "```"
   ]
  },
  {
   "cell_type": "code",
   "execution_count": 5,
   "id": "4f284c34-d4be-49db-831d-ab7f1861f8d0",
   "metadata": {
    "tags": [
     "hide-input",
     "remove-input"
    ]
   },
   "outputs": [],
   "source": [
    "import os\n",
    "os.chdir('C:\\\\Users\\\\arajen\\\\Documents\\\\GitHub\\\\solarstations\\\\')"
   ]
  },
  {
   "cell_type": "code",
   "execution_count": 6,
   "id": "6a1101b1-fdf8-4389-a1ce-a7f997cd3b4a",
   "metadata": {
    "tags": [
     "hide-input",
     "remove-input"
    ]
   },
   "outputs": [
    {
     "ename": "ModuleNotFoundError",
     "evalue": "No module named 'folium_legend'",
     "output_type": "error",
     "traceback": [
      "\u001b[1;31m---------------------------------------------------------------------------\u001b[0m",
      "\u001b[1;31mModuleNotFoundError\u001b[0m                       Traceback (most recent call last)",
      "Input \u001b[1;32mIn [6]\u001b[0m, in \u001b[0;36m<cell line: 4>\u001b[1;34m()\u001b[0m\n\u001b[0;32m      2\u001b[0m \u001b[38;5;28;01mimport\u001b[39;00m \u001b[38;5;21;01mfolium\u001b[39;00m\n\u001b[0;32m      3\u001b[0m \u001b[38;5;28;01mfrom\u001b[39;00m \u001b[38;5;21;01mfolium\u001b[39;00m \u001b[38;5;28;01mimport\u001b[39;00m plugins\n\u001b[1;32m----> 4\u001b[0m \u001b[38;5;28;01mimport\u001b[39;00m \u001b[38;5;21;01mfolium_legend\u001b[39;00m\n\u001b[0;32m      6\u001b[0m \u001b[38;5;66;03m# Load stations\u001b[39;00m\n\u001b[0;32m      7\u001b[0m solarstations \u001b[38;5;241m=\u001b[39m pd\u001b[38;5;241m.\u001b[39mread_csv(\u001b[38;5;124m'\u001b[39m\u001b[38;5;124m../solarstations.csv\u001b[39m\u001b[38;5;124m'\u001b[39m, dtype\u001b[38;5;241m=\u001b[39m{\u001b[38;5;124m'\u001b[39m\u001b[38;5;124mTier\u001b[39m\u001b[38;5;124m'\u001b[39m: \u001b[38;5;28mstr\u001b[39m})\u001b[38;5;241m.\u001b[39mfillna(\u001b[38;5;124m'\u001b[39m\u001b[38;5;124m'\u001b[39m)\n",
      "\u001b[1;31mModuleNotFoundError\u001b[0m: No module named 'folium_legend'"
     ]
    }
   ],
   "source": [
    "import pandas as pd\n",
    "import folium\n",
    "from folium import plugins\n",
    "import folium_legend\n",
    "\n",
    "# Load stations\n",
    "solarstations = pd.read_csv('../solarstations.csv', dtype={'Tier': str}).fillna('')\n",
    "esmap_stations = pd.read_csv('../esmap_stations.csv', dtype={'Tier': str}).fillna('')\n",
    "# Add esmap stations first so they are underneath\n",
    "stations = pd.concat([solarstations, esmap_stations], axis='rows', ignore_index=True)\n",
    "\n",
    "\n",
    "GHIImagery = \"https://d2asdkx1wwwi7q.cloudfront.net/v20210621/ghi_global/{z}/z{z}_{x}x{y}.jpg\"\n",
    "DNIImagery = \"https://d2asdkx1wwwi7q.cloudfront.net/v20210621/dni_global/{z}/z{z}_{x}x{y}.jpg\"\n",
    "GlobalSolarAtlasAttribution = \"Source: GlobalSolarAtlas 2.0. Data from Solargis.\"\n",
    "EsriImagery = \"https://server.arcgisonline.com/ArcGIS/rest/services/World_Imagery/MapServer/tile/{z}/{y}/{x}\"\n",
    "EsriAttribution = \"Tiles &copy; Esri &mdash; Source: Esri, i-cubed, USDA, USGS, AEX, GeoEye, Getmapping, Aerogrid, IGN, IGP, UPR-EGP, and the GIS User Community\"\n",
    "\n",
    "# Create Folium map\n",
    "m = folium.Map(\n",
    "    location=[0, 15],\n",
    "    zoom_start=1, min_zoom=1, max_bounds=True,\n",
    "    control_scale=True,  # Adds distance scale in lower left corner\n",
    "    tiles='Cartodb Positron')\n",
    "\n",
    "# Add each station to the map\n",
    "for index, row in stations.iterrows():    \n",
    "    if row['Time period'].endswith('-'):\n",
    "        color = '#008000'  # Green for active stations\n",
    "        zindex = 603\n",
    "    elif (row['Time period'] == '') | row['Time period'].endswith('?'):\n",
    "        color = '#3186cc'  # Blue for stations with unknown status\n",
    "        zindex = 602\n",
    "    else:\n",
    "        color = '#ff422b'  # Red for inactive stations\n",
    "        zindex = 601\n",
    "\n",
    "    folium.CircleMarker(\n",
    "        location=[row['Latitude'], row['Longitude']],\n",
    "        popup=row['Station full name'] + ' - ' + str(row['State']) + ' ' + row['Country'],\n",
    "        tooltip=row['Abbreviation'],\n",
    "        radius=5, color=color,\n",
    "        fill_color=color, fill=True, z_index=zindex).add_to(m)\n",
    "\n",
    "folium.raster_layers.TileLayer(EsriImagery, name='World imagery', attr=EsriAttribution, show=False).add_to(m)\n",
    "folium.raster_layers.TileLayer(GHIImagery, name='GHI', attr=GlobalSolarAtlasAttribution,\n",
    "                               max_zoom=10, max_native_zoom=10, zoomOffset=1, show=False).add_to(m)\n",
    "folium.raster_layers.TileLayer(DNIImagery, name='DNI', attr=GlobalSolarAtlasAttribution,\n",
    "                               max_zoom=10, max_native_zoom=10, zoomOffset=1, show=False).add_to(m)\n",
    "folium.LayerControl(position='topright').add_to(m)\n",
    "\n",
    "# Additional options and plugins\n",
    "# Note it's not possible to change the position of the scale\n",
    "#plugins.MiniMap(toggle_display=True, zoom_level_fixed=1, minimized=True, position='bottomright').add_to(m)  # Add minimap to the map\n",
    "plugins.Fullscreen(position='bottomright').add_to(m)  # Add full screen button to map\n",
    "folium.LatLngPopup().add_to(m)  # Show latitude/longitude when clicking on the map\n",
    "# plugins.LocateControl(position='topright').add_to(m)  # Add button for your position\n",
    "# plugins.MeasureControl(position='topleft').add_to(m)  # Add distance length measurement tool\n",
    "\n",
    "# Create legend\n",
    "labels = ['Active', 'Inactive', 'Unknown']\n",
    "colors = ['#008000', '#ff422b', '#3186cc']\n",
    "legend = folium_legend.make_legend(labels, colors, title=\"Station status\")\n",
    "m.get_root().html.add_child(legend)  # Add Legend to map\n",
    "\n",
    "# Show the map\n",
    "m"
   ]
  },
  {
   "cell_type": "markdown",
   "id": "3ab7e85b",
   "metadata": {},
   "source": [
    "## Acknowledgements\n",
    "Solar radiation map backgrounds were obtained from the Global Solar Atlas 2.0, a free, web-based application developed and operated by Solargis s.r.o. on behalf of the World Bank Group, utilizing Solargis data, with funding provided by the Energy Sector Management Assistance Program (ESMAP). For additional information see https://globalsolaratlas.info."
   ]
  }
 ],
 "metadata": {
  "kernelspec": {
   "display_name": "Python 3 (ipykernel)",
   "language": "python",
   "name": "python3"
  },
  "language_info": {
   "codemirror_mode": {
    "name": "ipython",
    "version": 3
   },
   "file_extension": ".py",
   "mimetype": "text/x-python",
   "name": "python",
   "nbconvert_exporter": "python",
   "pygments_lexer": "ipython3",
   "version": "3.10.4"
  },
  "toc-showcode": false,
  "toc-showtags": true
 },
 "nbformat": 4,
 "nbformat_minor": 5
}
