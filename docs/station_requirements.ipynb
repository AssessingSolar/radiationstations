{
 "cells": [
  {
   "cell_type": "markdown",
   "id": "77da13ed",
   "metadata": {},
   "source": [
    "# Station requirements and categorization\n",
    "\n",
    "This sections defines the minimum requirements for a station to be included in in the list of high-quality solar radiation monitoring stations. The most restricting criteria is that stations are required to measure at least two of the three irradiance components, such that the last component can be calculated.\n",
    "\n",
    "## Station categorization\n",
    "The stations are subdivided into two different categories: Tier 1 and Tier 2 stations.\n",
    "\n",
    "### Tier 1 stations\n",
    "Tier 1 stations are defined as those that meet all of the following requirements:\n",
    "* measurement of direct normal irradiance (DNI) with a Class A thermopile pyrheliometer mounted on a solar tracker\n",
    "* measurement of diffuse horizontal irradiance (DHI) with a Spectrally Flat Class A thermopile pyranometer shaded by a shading ball\n",
    "* measurement of global horizontal irradiance (GHI) with a Spectrally Flat Class A thermopile pyranometer\n",
    "\n",
    "Separate measurement of GHI is required for Tier 1 stations as most quality control procedures relies on comparing the measured and calculated GHI (closure equation). The stations in the [BSRN](https://bsrn.awi.de/) network are examples of Tier 1 stations.\n",
    "\n",
    "### Tier 2 stations\n",
    "Tier 2 stations are defined as those that do not meet the Tier 1 requirements but meet one of the following specifications:\n",
    "* Meets two of the three requirements of Tier 1 stations\n",
    "* Measures GHI and DHI using a rotating shading band pyranometer or SPN1\n",
    "\n",
    "### Non-qualifying stations\n",
    "Stations that only measure GHI are not considered, this is in part due to the fact that there are thousands of such stations worldwide. Also, stations that measure DHI using a manually adjusted shadow band are not considered, as such measurements are notoriously unreliable due to the shadow band having to be adjusted every few days.\n",
    "\n",
    "## Station metadata\n",
    "The central part of the catalog is the list of stations and their metadata, which includes:\n",
    "* Station name\n",
    "* Station abbreviation\n",
    "* State/region and country\n",
    "* Latitude, longitude, and elevation (according to ISO 6709)\n",
    "* Time period of operation\n",
    "* Station network (e.g., BSRN, SURFRAD) and owner\n",
    "* Link to the station or network website\n",
    "* Data availability (\"Freely\", \"Upon request\", \"Not available\", or blank if unknown)\n",
    "* Station tier\n",
    "* Instruments and components\n",
    "\n",
    "## Time-period\n",
    "The station time-period is useful for a number of reasons, e.g., in identifying which stations are still active and how long of a historical record of data is available. The time-period should identify for which years data is available. For example, for an active station from 2013 which does not have data for 2014 and 2017, the time-period would be: `2013&2015-2016&2018-`. For BSRN stations the time period should be identified based on the available data, which can be seen [here](https://dataportals.pangaea.de/bsrn/).\n",
    "\n",
    "### Instruments and components\n",
    "Metadata concenring the instrumentation and which components are measured is highly useful when determining if a station is of interest to a particular study. The instrument column denotes whether irradiance is measured using tradiational thermopile instruments or using special instruments (such as SPN1 or rotating shadowband pyranometers (RSR or RSI). In the components column, the measured components are denoted by one or more letters separated by semicolons. An example could be `G;B;D;UV;IR` (the order of components should be given as in the example)."
   ]
  },
  {
   "cell_type": "code",
   "execution_count": null,
   "id": "bc87db44",
   "metadata": {},
   "outputs": [],
   "source": []
  }
 ],
 "metadata": {
  "kernelspec": {
   "display_name": "Python 3 (ipykernel)",
   "language": "python",
   "name": "python3"
  },
  "language_info": {
   "codemirror_mode": {
    "name": "ipython",
    "version": 3
   },
   "file_extension": ".py",
   "mimetype": "text/x-python",
   "name": "python",
   "nbconvert_exporter": "python",
   "pygments_lexer": "ipython3",
   "version": "3.10.4"
  }
 },
 "nbformat": 4,
 "nbformat_minor": 5
}
