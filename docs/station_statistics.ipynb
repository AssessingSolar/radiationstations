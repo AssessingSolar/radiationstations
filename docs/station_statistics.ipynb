{
 "cells": [
  {
   "cell_type": "markdown",
   "id": "037d0d40-b1d5-4724-92b2-a86c223b674e",
   "metadata": {
    "editable": true,
    "slideshow": {
     "slide_type": ""
    },
    "tags": []
   },
   "source": [
    "# Solar Stations Statistics\n",
    "\n",
    "This page presents statistics of solar irradiance monitoring stations using data from SolarStations.org."
   ]
  },
  {
   "cell_type": "code",
   "execution_count": null,
   "id": "3afafeb7-9ec2-4bd0-827d-edb4d3bd81c3",
   "metadata": {
    "editable": true,
    "slideshow": {
     "slide_type": ""
    },
    "tags": [
     "remove-cell"
    ]
   },
   "outputs": [],
   "source": [
    "import pandas as pd\n",
    "import matplotlib.pyplot as plt\n",
    "import matplotlib.ticker as ticker\n",
    "import numpy as np\n",
    "from datetime import datetime as dt\n",
    "from IPython.display import Markdown as md\n",
    "from matplotlib.lines import Line2D"
   ]
  },
  {
   "cell_type": "code",
   "execution_count": 2,
   "id": "90ca945a-705d-4542-801a-3bd9c0bae7eb",
   "metadata": {
    "tags": [
     "remove-cell"
    ]
   },
   "outputs": [],
   "source": [
    "path = 'https://solarstations.org/_downloads/f85f41dda48ab008055bbfad91e578b2/SolarStationsOrg-station-catalog.csv'\n",
    "df = pd.read_csv(path)"
   ]
  },
  {
   "cell_type": "code",
   "execution_count": 3,
   "id": "b96cb835-384e-4fbc-9cf4-c81f18b754c3",
   "metadata": {
    "scrolled": true,
    "tags": [
     "remove-cell"
    ]
   },
   "outputs": [],
   "source": [
    "dfs = df[['Station full name','Time period']]\n",
    "dfs.index = dfs['Station full name']\n",
    "dfs = dfs.drop(columns=['Station full name'])\n",
    "\n",
    "# make different colors based on stations status\n",
    "dfs['color'] = 'red'\n",
    "dfs['color'] = dfs['color'].mask(dfs['Time period'].str.endswith('-'), 'green').mask(dfs['Time period'].str.endswith('?'), 'blue')\n",
    "\n",
    "# Drop stations with unknown time period ('?' or '')\n",
    "dfs = dfs.loc[~dfs['Time period'].isin(['?', '']), :]\n",
    "\n",
    "# define start operation period\n",
    "dfs['start'] = dfs['Time period'].str[:4].astype(int)\n",
    "\n",
    "# Drop stations with only one year of data\n",
    "dfs = dfs.loc[~(dfs['Time period'] == dfs['start'].astype(str)), :]\n",
    "\n",
    "# define end operation period\n",
    "dfs['end'] = dfs['Time period'].str[4:]\n",
    "dfs['end'] = dfs['Time period'].str[5:].mask(dfs['Time period'].str.endswith('-'), dt.now().year).mask(dfs['Time period'].str.endswith('-?'), dt.now().year).mask(dfs['Time period'].str.endswith('-?'), dt.now().year)\n",
    "dfs['end'] = dfs['end'].astype(int)\n",
    "\n",
    "# sort the dataframe based on the start operation date and station status (color)\n",
    "dfs = dfs.sort_values(['start','color'], ascending=False)\n",
    "\n",
    "dfs = dfs.reset_index()"
   ]
  },
  {
   "cell_type": "markdown",
   "id": "96f2fc14-2e09-46f1-957f-f83de9675ea5",
   "metadata": {
    "tags": [
     "remove-input"
    ]
   },
   "source": [
    "First, let's visualize the operating period of all of the known stations."
   ]
  },
  {
   "cell_type": "code",
   "execution_count": 4,
   "id": "7566756b-2d0e-4104-8908-c40f8aa5df59",
   "metadata": {
    "editable": true,
    "slideshow": {
     "slide_type": ""
    },
    "tags": [
     "remove-input"
    ]
   },
   "outputs": [
    {
     "data": {
      "image/png": "[encoded data removed]",
      "text/plain": [
       "<Figure size 432x216 with 1 Axes>"
      ]
     },
     "metadata": {
      "needs_background": "light"
     },
     "output_type": "display_data"
    }
   ],
   "source": [
    "fig, ax = plt.subplots(figsize=(6, 3))\n",
    "ax.barh(dfs.index, dfs['end']-dfs['start'], left=dfs['start'], color=dfs['color'], zorder=2)\n",
    "ax.set_yticks([])\n",
    "ax.set_title('History of station status')\n",
    "ax.set_xticks(np.arange(1970,dt.today().year+5,5))\n",
    "ax.set_xlim(1975,dt.today().year+1)\n",
    "ax.grid(alpha=0.5, zorder=-1)\n",
    "plt.figtext(0.5, -0.03, 'Station start and end year.', wrap=True, horizontalalignment='center', fontsize=9)\n",
    "# custom legend\n",
    "custom_lines = [Line2D([0], [0], color='green', lw=4),\n",
    "                Line2D([0], [0], color='blue', lw=4),\n",
    "                Line2D([0], [0], color='red', lw=4)]\n",
    "ax.legend(custom_lines, ['Active', 'Unknown', 'Inactive']);"
   ]
  },
  {
   "cell_type": "markdown",
   "id": "7aa1a777-8ac4-4937-b32b-a0ac8ba33bec",
   "metadata": {
    "tags": [
     "remove-input"
    ]
   },
   "source": [
    "Let's take a closer look at the current active stations and their measurement record."
   ]
  },
  {
   "cell_type": "code",
   "execution_count": 5,
   "id": "d6130d3a-91bd-46db-8f1f-6c704e4e410b",
   "metadata": {
    "tags": [
     "remove-input"
    ]
   },
   "outputs": [
    {
     "data": {
      "image/png": "[encoded data removed]",
      "text/plain": [
       "<Figure size 360x216 with 1 Axes>"
      ]
     },
     "metadata": {
      "needs_background": "light"
     },
     "output_type": "display_data"
    }
   ],
   "source": [
    "active_stations_count = dfs.loc[dfs['color']=='green', 'start'].value_counts().sort_index()\n",
    "\n",
    "fig, axes = plt.subplots(figsize=(5, 3))\n",
    "axes.plot(active_stations_count.cumsum())\n",
    "\n",
    "axes.set_ylabel('Number of active stations [-]')\n",
    "axes.grid(alpha=0.5)\n",
    "axes.set_xticks(np.arange(1970, dt.today().year+5, 5))\n",
    "axes.set_xlim(1975, dt.today().year+1)\n",
    "axes.set_ylim(0, np.ceil((active_stations_count.cumsum().max()+3)/50)*50)\n",
    "plt.figtext(0.5, -0.03, 'Active stations available for each year.',\n",
    "            wrap=True, horizontalalignment='center', fontsize=9)\n",
    "plt.show()"
   ]
  },
  {
   "cell_type": "code",
   "execution_count": 6,
   "id": "f30570a6-32df-42f4-afec-0b84c74a992d",
   "metadata": {
    "tags": [
     "remove-cell"
    ]
   },
   "outputs": [],
   "source": [
    "a = dfs.loc[dfs['color']=='green']\n",
    "year = 1993\n",
    "stations_before_year = len(a.loc[a['start']<year])\n",
    "percent_before_year = round(1-(len(a)-len(a.loc[a['start']<year]))/len(a),3)*100\n",
    "total_active = len(a)\n",
    "\n",
    "last_20_years = dt.today().year - 20\n",
    "stations_last_20_years = len(a.loc[a['start']>last_20_years])\n",
    "percent_last_20_years = round(1-(len(a)-len(a.loc[a['start']>last_20_years]))/len(a),3)*100\n",
    "\n",
    "df['Unknown_status'] = list(map(lambda x: str(x).endswith('?'), df['Time period']))\n",
    "dfu = df.loc[df['Unknown_status']]"
   ]
  },
  {
   "cell_type": "code",
   "execution_count": 7,
   "id": "97522363-b029-4903-811b-cae3882045dd",
   "metadata": {
    "editable": true,
    "slideshow": {
     "slide_type": ""
    },
    "tags": [
     "remove-input"
    ]
   },
   "outputs": [
    {
     "data": {
      "text/markdown": [
       "The following conclusions can be drawn from the figures above: \n",
       "* There are currently 421 active stations out of the 760 known stations\n",
       "* Of the active stations, only 14 have been in operation before 1993 (~3%) \n",
       "* The majority of the active stations (347) have been in operation for less than 20 years (~82%) \n",
       "* There are 111 stations whose operation status is unknown, which demonstrates a huge barrier to accessing information and data from solar stations!"
      ],
      "text/plain": [
       "<IPython.core.display.Markdown object>"
      ]
     },
     "execution_count": 7,
     "metadata": {},
     "output_type": "execute_result"
    }
   ],
   "source": [
    "md(f'The following conclusions can be drawn from the figures above: \\n'\n",
    "   f'* There are currently {total_active} active stations out of the {dfs.shape[0]} known stations\\n'\n",
    "   f'* Of the active stations, only {stations_before_year} have been in operation before {year} (~{int(percent_before_year)}%) \\n'\n",
    "   f'* The majority of the active stations ({stations_last_20_years}) have been in operation for less than 20 years (~{int(percent_last_20_years)}%) \\n'\n",
    "   f'* There are {len(dfu)} stations whose operation status is unknown, which demonstrates a huge barrier to accessing information and data from solar stations!'\n",
    ")"
   ]
  },
  {
   "cell_type": "markdown",
   "id": "551ce64f-88e6-42f8-81dc-7eb7b98ca95c",
   "metadata": {
    "editable": true,
    "slideshow": {
     "slide_type": ""
    },
    "tags": []
   },
   "source": [
    "## Dataset duration"
   ]
  },
  {
   "cell_type": "markdown",
   "id": "48048fa9-a1f2-4e07-8cbc-caf5a8f4c297",
   "metadata": {
    "editable": true,
    "slideshow": {
     "slide_type": ""
    },
    "tags": []
   },
   "source": [
    "The figure below provides an overview of the operation duration of the active and inactive stations."
   ]
  },
  {
   "cell_type": "code",
   "execution_count": 8,
   "id": "46cbf0bf-8702-414d-a757-38fe03618708",
   "metadata": {
    "editable": true,
    "slideshow": {
     "slide_type": ""
    },
    "tags": [
     "remove-cell"
    ]
   },
   "outputs": [],
   "source": [
    "# use only active and inactive stations (remove unknown status)\n",
    "dfs_known = dfs.loc[dfs['color'].isin(['green','red'])].copy()\n",
    "# find the operation years for each station\n",
    "dfs_known['operation_years'] = dfs_known['end'].subtract(dfs_known['start'])"
   ]
  },
  {
   "cell_type": "code",
   "execution_count": 9,
   "id": "bfabd30f-c8d5-491a-9bcb-c6a40f80ddad",
   "metadata": {
    "editable": true,
    "slideshow": {
     "slide_type": ""
    },
    "tags": [
     "remove-input"
    ]
   },
   "outputs": [
    {
     "data": {
      "image/png": "[encoded data removed]",
      "text/plain": [
       "<Figure size 360x216 with 1 Axes>"
      ]
     },
     "metadata": {
      "needs_background": "light"
     },
     "output_type": "display_data"
    }
   ],
   "source": [
    "step_size = 5\n",
    "bins = np.arange(0, dfs_known['operation_years'].max()+step_size, step_size)\n",
    "\n",
    "fig, ax = plt.subplots(figsize=(5, 3))\n",
    "dfs_known.loc[:, 'operation_years'].hist(\n",
    "    ax=ax, bins=bins, zorder=2, color='red', label='Inactive',\n",
    "    edgecolor='black', linewidth=0.4)\n",
    "\n",
    "dfs_known.loc[dfs_known['color']=='green', 'operation_years'].hist(\n",
    "    ax=ax, bins=bins, zorder=2, color='green', label='Active',\n",
    "    edgecolor='black', linewidth=0.4)\n",
    "\n",
    "ax.set_ylabel('Total number of stations')\n",
    "ax.grid(alpha=0.5, which='both', axis='y', zorder=-1)\n",
    "ax.set_xlabel('Operating years')\n",
    "ax.set_title('Dataset length')\n",
    "ax.set_xlim(0, None)\n",
    "plt.show()"
   ]
  },
  {
   "cell_type": "markdown",
   "id": "b78eacad-4650-4ca2-af8f-a6f4f02bab35",
   "metadata": {
    "editable": true,
    "slideshow": {
     "slide_type": ""
    },
    "tags": []
   },
   "source": [
    "# Historical and active stations"
   ]
  },
  {
   "cell_type": "code",
   "execution_count": 32,
   "id": "687a0212-1726-4eb5-ac11-2c05e7abeda1",
   "metadata": {
    "editable": true,
    "slideshow": {
     "slide_type": ""
    },
    "tags": [
     "remove-cell"
    ]
   },
   "outputs": [
    {
     "data": {
      "image/png": "[encoded data removed]",
      "text/plain": [
       "<Figure size 360x216 with 1 Axes>"
      ]
     },
     "metadata": {
      "needs_background": "light"
     },
     "output_type": "display_data"
    }
   ],
   "source": [
    "# Top 15 countries\n",
    "countries = df.groupby('Country').count()['Station full name'].sort_values(ascending=False)[:15]\n",
    "# Plot\n",
    "fig, axes = plt.subplots(figsize=(5,3))\n",
    "countries.plot.bar(zorder=2, width=0.3, edgecolor='black', linewidth=0.4)\n",
    "axes.set_ylabel('Total number of stations')\n",
    "axes.set_ylim(0, countries.iloc[0]+5)\n",
    "axes.set_yticks(np.arange(0,countries.iloc[0]+20,20))\n",
    "axes.grid(alpha=0.5, which='both', axis='y', zorder=-1)\n",
    "axes.set_xlabel('')\n",
    "plt.show()"
   ]
  },
  {
   "cell_type": "code",
   "execution_count": 11,
   "id": "418fb9bc-81de-4a0b-b2c8-900fd0ffb181",
   "metadata": {
    "editable": true,
    "scrolled": true,
    "slideshow": {
     "slide_type": ""
    },
    "tags": [
     "remove-cell"
    ]
   },
   "outputs": [
    {
     "name": "stdout",
     "output_type": "stream",
     "text": [
      "List of historical and active networks:\n"
     ]
    },
    {
     "data": {
      "text/plain": [
       "SRRA                                                    123\n",
       "ESMAP                                                    89\n",
       "BSRN                                                     80\n",
       "WEST                                                     52\n",
       "NOAA                                                     39\n",
       "IOS-net                                                  26\n",
       "SAURAN                                                   22\n",
       "WMORRC                                                   17\n",
       "BOM                                                      15\n",
       "QEERI                                                    15\n",
       "SONDA                                                    14\n",
       "AEMET                                                    14\n",
       "FONDEF                                                   13\n",
       "WMOGAW                                                   12\n",
       "SMHI                                                     12\n",
       "enerMENA                                                 10\n",
       "SURFRAD                                                  10\n",
       "SOLRAD                                                    9\n",
       "PPA                                                       8\n",
       "SRML                                                      7\n",
       "CBSRN                                                     7\n",
       "DOERTC                                                    6\n",
       "ARAD                                                      5\n",
       "SMN                                                       5\n",
       "ABO                                                       4\n",
       "SEMRTS                                                    4\n",
       "HBCU                                                      3\n",
       "NRELMIDC                                                  3\n",
       "ARM                                                       3\n",
       "LithuanianHydrometeorologicalService(LHMS)                2\n",
       "ARG/AcademyofSciencesofMoldova                            1\n",
       "LatvianEnvironmentGeologyandMeteorologyCentre(LEGMC)      1\n",
       "SlovakHydrometeorologicalInstitute                        1\n",
       "AERONET                                                   1\n",
       "IDMP                                                      1\n",
       "Name: count, dtype: int64"
      ]
     },
     "execution_count": 11,
     "metadata": {},
     "output_type": "execute_result"
    }
   ],
   "source": [
    "print('List of historical and active networks:')\n",
    "df['Network'].str.replace(' ','').str.split(';', expand=True).stack().value_counts()"
   ]
  },
  {
   "cell_type": "code",
   "execution_count": 12,
   "id": "ac147a68-3217-4f44-8960-f35556ef5fa6",
   "metadata": {
    "editable": true,
    "slideshow": {
     "slide_type": ""
    },
    "tags": [
     "remove-cell"
    ]
   },
   "outputs": [
    {
     "data": {
      "image/png": "[encoded data removed]",
      "text/plain": [
       "<Figure size 360x216 with 1 Axes>"
      ]
     },
     "metadata": {
      "needs_background": "light"
     },
     "output_type": "display_data"
    }
   ],
   "source": [
    "# Stations per KG climate zone\n",
    "# Break down the station into Tier\n",
    "climate_zone = df.groupby(['Koeppen Geiger climate zone','Tier']).count()['Station full name'].unstack('Tier').fillna(0)\n",
    "# Find the total number of stations (Tier 1 + Tier 2)\n",
    "climate_zone['sum'] = climate_zone[1.0] + climate_zone[2.0]\n",
    "# Sort the dataframe from high number of stations to low\n",
    "climate_zone.sort_values(by='sum', ascending=False, inplace=True)\n",
    "# drop the 'sum' column for easier plotting\n",
    "climate_zone.drop(columns='sum', inplace=True)\n",
    "\n",
    "# plot\n",
    "fig, axes = plt.subplots(figsize=(5,3))\n",
    "climate_zone.plot.bar(ax=axes, zorder=2, width=0.3, rot=0, stacked=True,\n",
    "                     edgecolor='black', linewidth=0.4)\n",
    "axes.set_ylim(0, climate_zone.iloc[0][1.0]+climate_zone.iloc[0][2.0]+5)\n",
    "axes.set_yticks(np.arange(0,climate_zone.iloc[0][1.0]+climate_zone.iloc[0][2.0]+50,50))\n",
    "axes.grid(alpha=0.5, which='both', axis='y', zorder=-1)\n",
    "axes.set_ylabel('Total number of stations')\n",
    "axes.set_xlabel('')\n",
    "plt.show()"
   ]
  },
  {
   "cell_type": "markdown",
   "id": "63c9d23a-5d17-49ff-a250-1c6cb9045d1c",
   "metadata": {
    "editable": true,
    "slideshow": {
     "slide_type": ""
    },
    "tags": []
   },
   "source": [
    "# Zooming in on active stations\n",
    "\n",
    "The remainder of the plots and statistics will only be based on the Active stations."
   ]
  },
  {
   "cell_type": "code",
   "execution_count": 13,
   "id": "99c5ce7c-b4be-447f-8fc4-92a90d211b01",
   "metadata": {
    "editable": true,
    "slideshow": {
     "slide_type": ""
    },
    "tags": [
     "remove-cell"
    ]
   },
   "outputs": [
    {
     "name": "stdout",
     "output_type": "stream",
     "text": [
      "The number of active stations: 421\n"
     ]
    }
   ],
   "source": [
    "# create a column indicating if a station is active\n",
    "df['Active'] = df['Time period'].str.endswith('-')\n",
    "# create a new dataframe containing only the active stations\n",
    "\n",
    "# REMOVE THE ==True WHEN THERE ARE NO NAN VALUES\n",
    "dfa = df.loc[df['Active']==True]\n",
    "print(f'The number of active stations: {len(dfa)}')"
   ]
  },
  {
   "cell_type": "markdown",
   "id": "af244d03-f6b7-40c4-9742-391412e26f38",
   "metadata": {
    "editable": true,
    "slideshow": {
     "slide_type": ""
    },
    "tags": []
   },
   "source": [
    "The figure below shows the number of active stations for each country. However, for many countries, data is available for historical networks as shown above."
   ]
  },
  {
   "cell_type": "code",
   "execution_count": 14,
   "id": "b2ae8652-f307-4d6a-93e9-96096cde02e1",
   "metadata": {
    "editable": true,
    "slideshow": {
     "slide_type": ""
    },
    "tags": [
     "remove-input"
    ]
   },
   "outputs": [
    {
     "data": {
      "image/png": "[encoded data removed]",
      "text/plain": [
       "<Figure size 360x216 with 1 Axes>"
      ]
     },
     "metadata": {
      "needs_background": "light"
     },
     "output_type": "display_data"
    }
   ],
   "source": [
    "# Break down the station into Tier\n",
    "countries_tier_active = dfa.groupby(['Country','Tier']).count()['Station full name'].unstack('Tier').fillna(0)\n",
    "# Find the total number of stations (Tier 1 + Tier 2)\n",
    "countries_tier_active['sum'] = countries_tier_active[1.0] + countries_tier_active[2.0]\n",
    "# Sort the dataframe from high number of stations to low\n",
    "countries_tier_active.sort_values(by='sum', ascending=False, inplace=True)\n",
    "# drop the 'sum' column for easier plotting\n",
    "countries_tier_active.drop(columns='sum', inplace=True)\n",
    "\n",
    "# plot\n",
    "fig, axes = plt.subplots(figsize=(5,3))\n",
    "countries_tier_active[:5].plot.bar(ax=axes, zorder=2, width=0.3, rot=0, stacked=True,\n",
    "                                  edgecolor='black', linewidth=0.4)  # plot only the top 5 countries\n",
    "axes.set_yticks(np.arange(0, countries_tier_active.iloc[0][1.0]+countries_tier_active.iloc[0][2.0]+10, 10))\n",
    "axes.grid(alpha=0.5, which='both', axis='y', zorder=-1)\n",
    "axes.set_ylabel('Number of active stations')\n",
    "axes.set_xlabel('')\n",
    "axes.set_title('Top 5 countries')\n",
    "plt.figtext(0.5, -0.03, 'Top five countries with the most active stations.', wrap=True, horizontalalignment='center', fontsize=9);"
   ]
  },
  {
   "cell_type": "code",
   "execution_count": 15,
   "id": "647217af-2516-49bb-8e16-4e6a23b6a76a",
   "metadata": {
    "editable": true,
    "slideshow": {
     "slide_type": ""
    },
    "tags": [
     "remove-input"
    ]
   },
   "outputs": [
    {
     "data": {
      "text/markdown": [
       "Most of the active stations belong to a network, which makes their data easier to access (partly because they usually have a website):\n",
       "* SRRA : 123 \n",
       "* ESMAP : 63 \n",
       "* BSRN : 61 \n",
       "* IOS-net : 15 \n",
       "* QEERI : 15 \n",
       "* AEMET : 14 \n",
       "* enerMENA : 10 \n",
       "* WMORRC : 10 \n",
       "* WMOGAW : 8 \n",
       "* SURFRAD : 7 \n",
       "* SOLRAD : 7 \n"
      ],
      "text/plain": [
       "<IPython.core.display.Markdown object>"
      ]
     },
     "execution_count": 15,
     "metadata": {},
     "output_type": "execute_result"
    }
   ],
   "source": [
    "networks = dfa['Network'].str.replace(' ','').str.split(';', expand=True).stack().value_counts()\n",
    "\n",
    "md(f\"Most of the active stations belong to a network, which makes their data easier to access (partly because they usually have a website):\\n\"\n",
    "   f'* {networks.index[0]} : {networks.iloc[0]} \\n'\n",
    "   f'* {networks.index[1]} : {networks.iloc[1]} \\n'\n",
    "   f'* {networks.index[2]} : {networks.iloc[2]} \\n'\n",
    "   f'* {networks.index[3]} : {networks.iloc[3]} \\n'\n",
    "   f'* {networks.index[4]} : {networks.iloc[4]} \\n'\n",
    "   f'* {networks.index[5]} : {networks.iloc[5]} \\n'\n",
    "   f'* {networks.index[6]} : {networks.iloc[6]} \\n'\n",
    "   f'* {networks.index[7]} : {networks.iloc[7]} \\n'\n",
    "   f'* {networks.index[8]} : {networks.iloc[8]} \\n'\n",
    "   f'* {networks.index[9]} : {networks.iloc[9]} \\n'\n",
    "   f'* {networks.index[10]} : {networks.iloc[10]} \\n'\n",
    ")"
   ]
  },
  {
   "cell_type": "markdown",
   "id": "50b5cc40-aa04-4342-8bde-e7ad7df41c9c",
   "metadata": {
    "editable": true,
    "slideshow": {
     "slide_type": ""
    },
    "tags": []
   },
   "source": [
    "## Breakdown by continent and climate"
   ]
  },
  {
   "cell_type": "code",
   "execution_count": 33,
   "id": "9bf7fa00-c1a5-444d-89c6-4cf3c7261a98",
   "metadata": {
    "editable": true,
    "slideshow": {
     "slide_type": ""
    },
    "tags": []
   },
   "outputs": [
    {
     "data": {
      "text/plain": [
       "Continent\n",
       "Africa            59\n",
       "Antarctica         6\n",
       "Asia             209\n",
       "Europe            56\n",
       "North America     60\n",
       "Oceania            9\n",
       "South America     16\n",
       "Name: Station full name, dtype: int64"
      ]
     },
     "execution_count": 33,
     "metadata": {},
     "output_type": "execute_result"
    }
   ],
   "source": [
    "continents = dfa.groupby('Continent').count().sort_values(by='Continent')['Station full name']\n",
    "continents"
   ]
  },
  {
   "cell_type": "code",
   "execution_count": 34,
   "id": "ea6abd81-a0ec-4967-9ac6-fad320f0224e",
   "metadata": {
    "editable": true,
    "slideshow": {
     "slide_type": ""
    },
    "tags": [
     "remove-input"
    ]
   },
   "outputs": [
    {
     "data": {
      "text/plain": [
       "Continent\n",
       "Africa            59\n",
       "Antarctica         6\n",
       "Asia             209\n",
       "Europe            56\n",
       "North America     60\n",
       "Oceania            9\n",
       "South America     16\n",
       "Name: Station full name, dtype: int64"
      ]
     },
     "execution_count": 34,
     "metadata": {},
     "output_type": "execute_result"
    }
   ],
   "source": [
    "continents"
   ]
  },
  {
   "cell_type": "code",
   "execution_count": 35,
   "id": "7242ab84-40de-472e-9997-e70f72720645",
   "metadata": {
    "editable": true,
    "slideshow": {
     "slide_type": ""
    },
    "tags": [
     "remove-input"
    ]
   },
   "outputs": [
    {
     "data": {
      "image/png": "[encoded data removed]",
      "text/plain": [
       "<Figure size 288x288 with 1 Axes>"
      ]
     },
     "metadata": {},
     "output_type": "display_data"
    }
   ],
   "source": [
    "fig, axes = plt.subplots(figsize=(4,4))\n",
    "\n",
    "autopct = lambda x: '{:.0f}'.format(x * continents.sum() / 100)\n",
    "\n",
    "pie = axes.pie(continents, autopct=autopct, pctdistance=0.85, startangle=34,\n",
    "               explode=np.ones(7)*0.05,\n",
    "               wedgeprops = {'linewidth': 0.3, 'edgecolor': 'black'})\n",
    "axes.legend(continents.index, loc=2, bbox_to_anchor=(1,0.75), frameon=False)\n",
    "axes.set_title('Active stations per continent');"
   ]
  },
  {
   "cell_type": "code",
   "execution_count": 36,
   "id": "2c7ed994-3fcf-4361-a0ff-f1ce9bd14b04",
   "metadata": {
    "editable": true,
    "slideshow": {
     "slide_type": ""
    },
    "tags": [
     "remove-cell"
    ]
   },
   "outputs": [],
   "source": [
    "# land areas of contients per km^2 from Wikipedia\n",
    "continent_area={\n",
    "    'Asia':44614000,\n",
    "    'Africa':30365000,\n",
    "    'North America':24230000,\n",
    "    'South America':17814000,\n",
    "    'Antarctica':14200000,\n",
    "    'Europe':10000000,\n",
    "    'Oceania':8510926\n",
    "   }"
   ]
  },
  {
   "cell_type": "code",
   "execution_count": 37,
   "id": "67dccea8-9995-43be-8013-9614c3108e88",
   "metadata": {
    "editable": true,
    "slideshow": {
     "slide_type": ""
    },
    "tags": [
     "remove-cell"
    ]
   },
   "outputs": [],
   "source": [
    "countries_continent_tier_active = dfa.groupby(['Continent','Tier']).count()['Station full name'].unstack('Tier').fillna(0)\n",
    "station_per_km = pd.DataFrame(dtype='float64')\n",
    "\n",
    "for i in continents.index:\n",
    "    station_per_km[i] = countries_continent_tier_active.loc[i]/continent_area[i]*1000000 # this is stations per Tm^2\n",
    "\n",
    "station_per_km = station_per_km.T\n",
    "# Find the total number of stations (Tier 1 + Tier 2)\n",
    "station_per_km['sum'] = station_per_km[1.0] + station_per_km[2.0]\n",
    "# Sort the dataframe from high number of stations to low\n",
    "station_per_km.sort_values(by='sum', ascending=False, inplace=True)\n",
    "# drop the 'sum' column for easier plotting\n",
    "station_per_km.drop(columns='sum', inplace=True)"
   ]
  },
  {
   "cell_type": "code",
   "execution_count": 38,
   "id": "844faa2d-f2a8-46f7-ab20-68824d40e007",
   "metadata": {
    "editable": true,
    "slideshow": {
     "slide_type": ""
    },
    "tags": [
     "remove-input"
    ]
   },
   "outputs": [
    {
     "data": {
      "image/png": "[encoded data removed]",
      "text/plain": [
       "<Figure size 360x216 with 1 Axes>"
      ]
     },
     "metadata": {
      "needs_background": "light"
     },
     "output_type": "display_data"
    }
   ],
   "source": [
    "fig, axes = plt.subplots(figsize=(5,3))\n",
    "station_per_km.plot.bar(ax=axes, zorder=2, width=0.3, rot=90, stacked=True,\n",
    "                        edgecolor='black', linewidth=0.4)\n",
    "axes.set_yticks(np.arange(0,station_per_km.iloc[0][1.0]+station_per_km.iloc[0][2.0]+1,1))\n",
    "axes.grid(alpha=0.5, which='both', axis='y', zorder=-1)\n",
    "axes.set_ylabel('Active stations per million m$^2$')\n",
    "axes.set_xlabel('')\n",
    "axes.set_title('Geographical coverage by continent');"
   ]
  },
  {
   "cell_type": "code",
   "execution_count": 39,
   "id": "55e9b61e-3aa2-4ff2-a462-138b61807771",
   "metadata": {
    "editable": true,
    "slideshow": {
     "slide_type": ""
    },
    "tags": [
     "remove-cell"
    ]
   },
   "outputs": [],
   "source": [
    "# Stations per KG climate zone\n",
    "# Break down the station into Tier\n",
    "climate_zone = dfa.groupby(['Koeppen Geiger climate zone','Tier']).count()['Station full name'].unstack('Tier').fillna(0)\n",
    "# Find the total number of stations (Tier 1 + Tier 2)\n",
    "climate_zone['sum'] = climate_zone[1.0] + climate_zone[2.0]\n",
    "# Sort the dataframe from high number of stations to low\n",
    "climate_zone.sort_values(by='sum', ascending=False, inplace=True)\n",
    "# drop the 'sum' column for easier plotting\n",
    "climate_zone.drop(columns='sum', inplace=True)"
   ]
  },
  {
   "cell_type": "code",
   "execution_count": 40,
   "id": "105efd6b-bcff-4278-b66a-979a6331c9bd",
   "metadata": {
    "editable": true,
    "slideshow": {
     "slide_type": ""
    },
    "tags": [
     "remove-input"
    ]
   },
   "outputs": [
    {
     "data": {
      "image/png": "[encoded data removed]",
      "text/plain": [
       "<Figure size 360x216 with 1 Axes>"
      ]
     },
     "metadata": {
      "needs_background": "light"
     },
     "output_type": "display_data"
    }
   ],
   "source": [
    "fig, axes = plt.subplots(figsize=(5,3))\n",
    "climate_zone.plot.bar(ax=axes, zorder=2, width=0.3, rot=0, stacked=True,\n",
    "                      edgecolor='black', linewidth=0.4)\n",
    "axes.set_ylim(0, climate_zone.iloc[0][1.0]+climate_zone.iloc[0][2.0]+5)\n",
    "axes.set_yticks(np.arange(0,climate_zone.iloc[0][1.0]+climate_zone.iloc[0][2.0]+25,25))\n",
    "axes.grid(alpha=0.5, which='both', axis='y', zorder=-1)\n",
    "axes.set_ylabel('Number of active stations')\n",
    "axes.set_xlabel('')\n",
    "axes.set_xticklabels(axes.get_xticklabels(), rotation=45, ha='right')\n",
    "axes.set_title('Stations per Köppen–Geiger climate zone');"
   ]
  },
  {
   "cell_type": "markdown",
   "id": "eb55fc39-257a-4aeb-8c7c-863bfbd0711f",
   "metadata": {
    "editable": true,
    "slideshow": {
     "slide_type": ""
    },
    "tags": []
   },
   "source": [
    "## Breakdown by elevation and latitude"
   ]
  },
  {
   "cell_type": "code",
   "execution_count": 41,
   "id": "2530f36a-aac1-4590-840f-9cdf5fdc8798",
   "metadata": {
    "editable": true,
    "slideshow": {
     "slide_type": ""
    },
    "tags": [
     "remove-input"
    ]
   },
   "outputs": [
    {
     "data": {
      "image/png": "[encoded data removed]",
      "text/plain": [
       "<Figure size 360x216 with 1 Axes>"
      ]
     },
     "metadata": {
      "needs_background": "light"
     },
     "output_type": "display_data"
    }
   ],
   "source": [
    "stations_per_500m = dfa.groupby(pd.cut(dfa['Elevation'], np.arange(0, 5000, 500)), observed=False)['Station full name'].count()\n",
    "\n",
    "fig, axes = plt.subplots(figsize=(5, 3))\n",
    "stations_per_500m.plot.bar(zorder=2, edgecolor='black', linewidth=0.4)\n",
    "axes.set_yticks(np.arange(0, stations_per_500m[1]+50, 50))\n",
    "axes.grid(alpha=0.5, which='both', axis='y', zorder=-1)\n",
    "axes.set_ylabel('Number of active stations')\n",
    "axes.set_xlabel('Elevation [m]')\n",
    "axes.set_title('Stations categorized by elevation');"
   ]
  },
  {
   "cell_type": "code",
   "execution_count": 26,
   "id": "6995714f-d2cd-464b-b6d1-7f5ec5bc1dc6",
   "metadata": {
    "editable": true,
    "slideshow": {
     "slide_type": ""
    },
    "tags": [
     "remove-input"
    ]
   },
   "outputs": [
    {
     "data": {
      "image/png": "[encoded data removed]",
      "text/plain": [
       "<Figure size 360x216 with 1 Axes>"
      ]
     },
     "metadata": {
      "needs_background": "light"
     },
     "output_type": "display_data"
    }
   ],
   "source": [
    "stations_per_10deg = dfa.groupby(pd.cut(dfa['Latitude'], np.arange(-90, 90+10, 10)), observed=False)['Station full name'].count()\n",
    "\n",
    "fig, axes = plt.subplots(figsize=(5, 3))\n",
    "stations_per_10deg.plot.bar(zorder=2, edgecolor='black', linewidth=0.4)\n",
    "axes.set_yticks(np.arange(0, stations_per_10deg.max()+10, 15))\n",
    "axes.grid(alpha=0.5, which='both', axis='y', zorder=-1)\n",
    "axes.set_ylabel('Number of active stations')\n",
    "axes.set_xlabel('Latitude [°]')\n",
    "axes.set_title('Stations categorized by latitude');"
   ]
  },
  {
   "cell_type": "markdown",
   "id": "11561b89-a2bb-400b-9659-8db1319259a2",
   "metadata": {
    "editable": true,
    "slideshow": {
     "slide_type": ""
    },
    "tags": []
   },
   "source": [
    "## Station tier"
   ]
  },
  {
   "cell_type": "code",
   "execution_count": 25,
   "id": "e42fd4a8-e57f-471d-a2ae-ed210209cb45",
   "metadata": {
    "editable": true,
    "slideshow": {
     "slide_type": ""
    },
    "tags": [
     "remove-input"
    ]
   },
   "outputs": [
    {
     "data": {
      "image/png": "[encoded data removed]",
      "text/plain": [
       "<Figure size 288x288 with 1 Axes>"
      ]
     },
     "metadata": {},
     "output_type": "display_data"
    }
   ],
   "source": [
    "# Station tier\n",
    "tier_rename = {1: 'Tier 1', 2: 'Tier 2'}\n",
    "\n",
    "fig, axes = plt.subplots(figsize=(4,4))\n",
    "dfa['Tier'].map(tier_rename).convert_dtypes().value_counts().\\\n",
    "    plot.pie(autopct='%1.0f%%', explode=[0, 0.1],\n",
    "             wedgeprops = {'linewidth': 0.3, 'edgecolor': 'black'})\n",
    "axes.set_ylabel('')\n",
    "axes.set_title('Station tier');"
   ]
  },
  {
   "cell_type": "markdown",
   "id": "0974d31b-827f-4082-ac4b-cf24a67193bf",
   "metadata": {},
   "source": [
    "The figure above shows the percentage of active stations categorized as either Tier 1 or Tier 2. It can be observed that most of the active stations are Tier 1, which means that they measure global horizontal irradiance (GHI), diffuse horizontal irradiance (DHI) using a shadow ball, and direct normal irradiance (DNI) using a pyrheliometer mounted on a solar tracker. For more information on the station tier classifications, see [the station requirements page](station_requirements)."
   ]
  },
  {
   "cell_type": "markdown",
   "id": "9ec7ebf2-5a8e-44e3-849f-643162c32cb9",
   "metadata": {
    "editable": true,
    "slideshow": {
     "slide_type": ""
    },
    "tags": []
   },
   "source": [
    "## Components"
   ]
  },
  {
   "cell_type": "code",
   "execution_count": 27,
   "id": "d0ac8e79-bdf4-4db3-be6d-5d06535c968e",
   "metadata": {
    "editable": true,
    "slideshow": {
     "slide_type": ""
    },
    "tags": [
     "remove-cell"
    ]
   },
   "outputs": [
    {
     "data": {
      "text/plain": [
       "G         367\n",
       "D         358\n",
       "B         353\n",
       "IR         36\n",
       "UV         29\n",
       "PAR        14\n",
       "RSI         8\n",
       "GTI         2\n",
       "Albedo      2\n",
       "RSR         1\n",
       "Name: count, dtype: int64"
      ]
     },
     "execution_count": 27,
     "metadata": {},
     "output_type": "execute_result"
    },
    {
     "data": {
      "image/png": "[encoded data removed]",
      "text/plain": [
       "<Figure size 360x216 with 1 Axes>"
      ]
     },
     "metadata": {
      "needs_background": "light"
     },
     "output_type": "display_data"
    }
   ],
   "source": [
    "component_dict = {\n",
    "    'G': 'GHI',\n",
    "    'D': 'DHI',\n",
    "    'B': 'DNI',\n",
    "}\n",
    "\n",
    "components = dfa['Components'].str.split(';', expand=True).stack().value_counts()\n",
    "\n",
    "fig, axes = plt.subplots(figsize=(5, 3))\n",
    "components.plot.bar(zorder=2, edgecolor='black', linewidth=0.4)\n",
    "axes.set_yticks(np.arange(0,components.iloc[0]+50,50))\n",
    "axes.grid(alpha=0.5, which='both', axis='y', zorder=-1)\n",
    "axes.set_ylabel('Number of active stations')\n",
    "axes.set_title('Irradiance components measured');\n",
    "components"
   ]
  },
  {
   "cell_type": "code",
   "execution_count": 28,
   "id": "19f045d8-5955-4741-928a-16fd5910476d",
   "metadata": {
    "editable": true,
    "slideshow": {
     "slide_type": ""
    },
    "tags": [
     "remove-cell"
    ]
   },
   "outputs": [
    {
     "data": {
      "text/plain": [
       "G         367\n",
       "D         358\n",
       "B         353\n",
       "IR         36\n",
       "UV         29\n",
       "PAR        14\n",
       "RSI         8\n",
       "GTI         2\n",
       "Albedo      2\n",
       "RSR         1\n",
       "Name: count, dtype: int64"
      ]
     },
     "execution_count": 28,
     "metadata": {},
     "output_type": "execute_result"
    }
   ],
   "source": [
    "dfa['Components'].str.split(';', expand=True).stack().value_counts()"
   ]
  },
  {
   "cell_type": "markdown",
   "id": "b1362fb3-40cb-4035-915b-50617ec537b3",
   "metadata": {
    "editable": true,
    "slideshow": {
     "slide_type": ""
    },
    "tags": []
   },
   "source": [
    "## Data availability"
   ]
  },
  {
   "cell_type": "code",
   "execution_count": 29,
   "id": "ee5e4f4d-9c03-49d1-ad82-2fb0a11bf218",
   "metadata": {
    "editable": true,
    "slideshow": {
     "slide_type": ""
    },
    "tags": [
     "remove-cell"
    ]
   },
   "outputs": [],
   "source": [
    "df_un = dfa[(dfa['Data availability'].isna()) | (dfa['Data availability']=='Not available')]\n",
    "df_av = dfa[(dfa['Data availability']=='Freely') | (dfa['Data availability']=='Free')]\n",
    "df_req = dfa[dfa['Data availability']=='Upon request']"
   ]
  },
  {
   "cell_type": "code",
   "execution_count": 30,
   "id": "71f3bc3b-a4ee-428f-9f41-e84cefd7dd45",
   "metadata": {
    "editable": true,
    "slideshow": {
     "slide_type": ""
    },
    "tags": [
     "remove-input"
    ]
   },
   "outputs": [
    {
     "data": {
      "text/markdown": [
       "Finding and downloading data from solar stations can be a tedious process. The main reason is that often there is no information on how to obtain the data. There are 208 active stations where data can be freely donwloaded and 179 stations for which there is no data access. The figure shows the corresponding percentages."
      ],
      "text/plain": [
       "<IPython.core.display.Markdown object>"
      ]
     },
     "execution_count": 30,
     "metadata": {},
     "output_type": "execute_result"
    }
   ],
   "source": [
    "md(f'Finding and downloading data from solar stations can be a tedious process. The main reason is that often there is no information on how to obtain the data. '\n",
    "   f'There are {len(df_av)} active stations where data can be freely donwloaded and {len(df_un)} stations for which there is no data access. The figure shows the corresponding percentages.')"
   ]
  },
  {
   "cell_type": "code",
   "execution_count": 31,
   "id": "46e9f53a-6b90-4baa-9d28-b934754bdfe6",
   "metadata": {
    "editable": true,
    "slideshow": {
     "slide_type": ""
    },
    "tags": [
     "remove-input"
    ]
   },
   "outputs": [
    {
     "data": {
      "image/png": "[encoded data removed]",
      "text/plain": [
       "<Figure size 288x288 with 1 Axes>"
      ]
     },
     "metadata": {},
     "output_type": "display_data"
    }
   ],
   "source": [
    "fig, axes = plt.subplots(figsize=(4, 4))\n",
    "axes.pie([len(df_av), len(df_req), len(df_un)], labels=['Freely\\navailable','Upon\\nrequest','Unavailable'], \n",
    "         colors=['C2','C0','C1'], autopct='%1.0f%%', startangle=90,\n",
    "         explode=[0.05, 0.05, 0.05],\n",
    "         wedgeprops = {'linewidth': 0.3, 'edgecolor': 'black'})\n",
    "axes.set_title('Data availability');"
   ]
  },
  {
   "cell_type": "code",
   "execution_count": null,
   "id": "c80ff34a-a337-4bc6-9e36-36e4bba6606c",
   "metadata": {},
   "outputs": [],
   "source": []
  }
 ],
 "metadata": {
  "kernelspec": {
   "display_name": "Python 3 (ipykernel)",
   "language": "python",
   "name": "python3"
  },
  "language_info": {
   "codemirror_mode": {
    "name": "ipython",
    "version": 3
   },
   "file_extension": ".py",
   "mimetype": "text/x-python",
   "name": "python",
   "nbconvert_exporter": "python",
   "pygments_lexer": "ipython3",
   "version": "3.10.4"
  }
 },
 "nbformat": 4,
 "nbformat_minor": 5
}
