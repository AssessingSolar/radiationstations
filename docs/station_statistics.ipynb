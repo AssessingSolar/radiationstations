{
 "cells": [
  {
   "cell_type": "markdown",
   "id": "037d0d40-b1d5-4724-92b2-a86c223b674e",
   "metadata": {},
   "source": [
    "## Solar Stations statistics\n",
    "\n",
    "This page presents statistics on solar radiation monitoring stations using data from SolarStations.org."
   ]
  },
  {
   "cell_type": "code",
   "execution_count": 41,
   "id": "3afafeb7-9ec2-4bd0-827d-edb4d3bd81c3",
   "metadata": {
    "tags": [
     "remove-cell"
    ]
   },
   "outputs": [],
   "source": [
    "import pandas as pd\n",
    "import matplotlib.pyplot as plt\n",
    "import matplotlib.ticker as ticker\n",
    "import numpy as np\n",
    "from datetime import datetime as dt\n",
    "from IPython.display import Markdown as md\n",
    "from matplotlib.lines import Line2D"
   ]
  },
  {
   "cell_type": "code",
   "execution_count": 2,
   "id": "90ca945a-705d-4542-801a-3bd9c0bae7eb",
   "metadata": {
    "tags": [
     "remove-cell"
    ]
   },
   "outputs": [],
   "source": [
    "path = 'https://solarstations.org/_downloads/f85f41dda48ab008055bbfad91e578b2/SolarStationsOrg-station-catalog.csv'\n",
    "df = pd.read_csv(path)"
   ]
  },
  {
   "cell_type": "code",
   "execution_count": 3,
   "id": "b96cb835-384e-4fbc-9cf4-c81f18b754c3",
   "metadata": {
    "scrolled": true,
    "tags": [
     "remove-cell"
    ]
   },
   "outputs": [],
   "source": [
    "dfs = df[['Station full name','Time period']]\n",
    "dfs.index = dfs['Station full name']\n",
    "dfs = dfs.drop(columns=['Station full name'])\n",
    "\n",
    "# make different colors based on stations status\n",
    "dfs['color'] = 'red'\n",
    "dfs['color'] = dfs['color'].mask(dfs['Time period'].str.endswith('-'), 'green').mask(dfs['Time period'].str.endswith('?'), 'blue')\n",
    "\n",
    "# Drop stations with unknown time period ('?' or '')\n",
    "dfs = dfs.loc[~dfs['Time period'].isin(['?', '']), :]\n",
    "\n",
    "# define start operation period\n",
    "dfs['start'] = dfs['Time period'].str[:4].astype(int)\n",
    "\n",
    "# Drop stations with only one year of data\n",
    "dfs = dfs.loc[~(dfs['Time period'] == dfs['start'].astype(str)), :]\n",
    "\n",
    "# define end operation period\n",
    "dfs['end'] = dfs['Time period'].str[4:]\n",
    "dfs['end'] = dfs['Time period'].str[5:].mask(dfs['Time period'].str.endswith('-'), dt.now().year).mask(dfs['Time period'].str.endswith('-?'), dt.now().year).mask(dfs['Time period'].str.endswith('-?'), dt.now().year)\n",
    "dfs['end'] = dfs['end'].astype(int)\n",
    "\n",
    "# sort the dataframe based on the start operation date and station status (color)\n",
    "dfs = dfs.sort_values(['start','color'], ascending=False)\n",
    "\n",
    "dfs = dfs.reset_index()"
   ]
  },
  {
   "cell_type": "code",
   "execution_count": 44,
   "id": "0997ff16-2095-4b99-a5d9-22bc1b71c057",
   "metadata": {
    "tags": [
     "remove-input"
    ]
   },
   "outputs": [
    {
     "data": {
      "image/png": "[encoded data removed]",
      "text/plain": [
       "<Figure size 432x216 with 1 Axes>"
      ]
     },
     "metadata": {
      "needs_background": "light"
     },
     "output_type": "display_data"
    }
   ],
   "source": [
    "fig, ax = plt.subplots(figsize=(6, 3))\n",
    "ax.barh(dfs.index, dfs['end']-dfs['start'], left=dfs['start'], color=dfs['color'], zorder=2)\n",
    "ax.set_yticks([])\n",
    "ax.set_title('History of station status')\n",
    "ax.set_xticks(np.arange(1970,dt.today().year+5,5))\n",
    "ax.set_xlim(1975,dt.today().year+1)\n",
    "ax.grid(alpha=0.5, zorder=-1)\n",
    "plt.figtext(0.5, -0.03, 'Station start and end year.', wrap=True, horizontalalignment='center', fontsize=9)\n",
    "# custom legend\n",
    "custom_lines = [Line2D([0], [0], color='green', lw=4),\n",
    "                Line2D([0], [0], color='blue', lw=4),\n",
    "                Line2D([0], [0], color='red', lw=4)]\n",
    "ax.legend(custom_lines, ['Active', 'Unknown', 'Inactive']);"
   ]
  },
  {
   "cell_type": "code",
   "execution_count": 43,
   "id": "b9b2a709-54d9-4176-b30d-8a411433b8d2",
   "metadata": {
    "tags": [
     "remove-input"
    ]
   },
   "outputs": [
    {
     "data": {
      "image/png": "[encoded data removed]",
      "text/plain": [
       "<Figure size 360x216 with 2 Axes>"
      ]
     },
     "metadata": {
      "needs_background": "light"
     },
     "output_type": "display_data"
    }
   ],
   "source": [
    "active_stations_count = dfs.loc[dfs['color']=='green', 'start'].value_counts().sort_index()\n",
    "\n",
    "fig, axes = plt.subplots(figsize=(5, 3))\n",
    "axes.plot(active_stations_count.cumsum().divide(active_stations_count.sum()).multiply(100))\n",
    "axes.set_ylim(0, 100)\n",
    "\n",
    "ax2 = axes.twinx()\n",
    "ax2.set_ylim([0,active_stations_count.cumsum().max()])\n",
    "\n",
    "# allign the ticks of the two y-axes\n",
    "nticks = 11\n",
    "axes.yaxis.set_major_locator(ticker.LinearLocator(nticks))\n",
    "ax2.yaxis.set_major_locator(ticker.LinearLocator(nticks))\n",
    "\n",
    "ax2.set_ylabel('Number of active stations [-]')\n",
    "axes.set_ylabel('Active stations [%]')\n",
    "axes.grid(alpha=0.5)\n",
    "axes.set_xticks(np.arange(1970,dt.today().year+5,5))\n",
    "axes.set_xlim(1975,dt.today().year+1)\n",
    "plt.figtext(0.5, -0.03, 'Active stations available for each year.', wrap=True, horizontalalignment='center', fontsize=9);"
   ]
  },
  {
   "cell_type": "code",
   "execution_count": 45,
   "id": "f30570a6-32df-42f4-afec-0b84c74a992d",
   "metadata": {
    "tags": [
     "remove-cell"
    ]
   },
   "outputs": [],
   "source": [
    "a = dfs.loc[dfs['color']=='green']\n",
    "year = 1993\n",
    "stations_before_year = len(a.loc[a['start']<year])\n",
    "percent_before_year = round(1-(len(a)-len(a.loc[a['start']<year]))/len(a),3)*100\n",
    "total_active = len(a)\n",
    "\n",
    "last_20_years = dt.today().year-20\n",
    "stations_last_20_years = len(a.loc[a['start']>last_20_years])\n",
    "percent_last_20_years = round(1-(len(a)-len(a.loc[a['start']>last_20_years]))/len(a),3)*100\n",
    "\n",
    "df['Unknown_status'] = list(map(lambda x: str(x).endswith('?'), df['Time period']))\n",
    "dfu = df.loc[df['Unknown_status']]"
   ]
  },
  {
   "cell_type": "code",
   "execution_count": 46,
   "id": "97522363-b029-4903-811b-cae3882045dd",
   "metadata": {
    "tags": [
     "remove-input"
    ]
   },
   "outputs": [
    {
     "data": {
      "text/markdown": [
       "The following conclusions can be drawn from the figures above: \n",
       "* Only 14 stations out of 420 have been in operation before 1993 (~3%) \n",
       "* 346 stations out of 420 have been in operation in the last 20 years (~82%) \n",
       "* There are 111 stations whose operation status is unknown, which demonstrates the huge barrier on accessing information and data from solar stations!"
      ],
      "text/plain": [
       "<IPython.core.display.Markdown object>"
      ]
     },
     "execution_count": 46,
     "metadata": {},
     "output_type": "execute_result"
    }
   ],
   "source": [
    "md(f'The following conclusions can be drawn from the figures above: \\n'\n",
    "   f'* Only {stations_before_year} stations out of {total_active} have been in operation before {year} (~{int(percent_before_year)}%) \\n'\n",
    "   f'* {stations_last_20_years} stations out of {total_active} have been in operation in the last 20 years (~{int(percent_last_20_years)}%) \\n'\n",
    "   f'* There are {len(dfu)} stations whose operation status is unknown, which demonstrates the huge barrier on accessing information and data from solar stations!')"
   ]
  },
  {
   "cell_type": "markdown",
   "id": "b78eacad-4650-4ca2-af8f-a6f4f02bab35",
   "metadata": {
    "tags": [
     "remove-cell"
    ]
   },
   "source": [
    "# Historical and active stations"
   ]
  },
  {
   "cell_type": "code",
   "execution_count": 32,
   "id": "687a0212-1726-4eb5-ac11-2c05e7abeda1",
   "metadata": {
    "tags": [
     "remove-cell"
    ]
   },
   "outputs": [
    {
     "data": {
      "text/plain": [
       "Text(0.5, 0, '')"
      ]
     },
     "execution_count": 32,
     "metadata": {},
     "output_type": "execute_result"
    },
    {
     "data": {
      "image/png": "[encoded data removed]",
      "text/plain": [
       "<Figure size 360x216 with 1 Axes>"
      ]
     },
     "metadata": {
      "needs_background": "light"
     },
     "output_type": "display_data"
    }
   ],
   "source": [
    "# Top 15 countries\n",
    "countries = df.groupby('Country').count()['Station full name'].sort_values(ascending=False)[:15]\n",
    "# Plot\n",
    "fig, axes = plt.subplots(figsize=(5,3))\n",
    "countries.plot.bar(zorder=2, width=0.3)\n",
    "axes.set_ylabel('Number of stations')\n",
    "axes.set_ylim(0, countries.iloc[0]+5)\n",
    "axes.set_yticks(np.arange(0,countries.iloc[0]+20,20))\n",
    "axes.grid(alpha=0.5, which='both', axis='y', zorder=-1)\n",
    "axes.set_xlabel('')\n",
    "plt.show()"
   ]
  },
  {
   "cell_type": "code",
   "execution_count": 33,
   "id": "418fb9bc-81de-4a0b-b2c8-900fd0ffb181",
   "metadata": {
    "scrolled": true,
    "tags": [
     "remove-cell"
    ]
   },
   "outputs": [
    {
     "name": "stdout",
     "output_type": "stream",
     "text": [
      "List of historical and active networks:\n"
     ]
    },
    {
     "data": {
      "text/plain": [
       "SRRA                                                    123\n",
       "ESMAP                                                    89\n",
       "BSRN                                                     79\n",
       "WEST                                                     52\n",
       "NOAA                                                     39\n",
       "IOS-net                                                  26\n",
       "SAURAN                                                   22\n",
       "WMORRC                                                   17\n",
       "BOM                                                      15\n",
       "QEERI                                                    15\n",
       "SONDA                                                    14\n",
       "AEMET                                                    14\n",
       "FONDEF                                                   13\n",
       "WMOGAW                                                   12\n",
       "SMHI                                                     12\n",
       "enerMENA                                                 10\n",
       "SURFRAD                                                  10\n",
       "SOLRAD                                                    9\n",
       "PPA                                                       8\n",
       "SRML                                                      7\n",
       "CBSRN                                                     7\n",
       "DOERTC                                                    6\n",
       "ARAD                                                      5\n",
       "SMN                                                       5\n",
       "ABO                                                       4\n",
       "SEMRTS                                                    4\n",
       "HBCU                                                      3\n",
       "NRELMIDC                                                  3\n",
       "ARM                                                       3\n",
       "LithuanianHydrometeorologicalService(LHMS)                2\n",
       "ARG/AcademyofSciencesofMoldova                            1\n",
       "LatvianEnvironmentGeologyandMeteorologyCentre(LEGMC)      1\n",
       "SlovakHydrometeorologicalInstitute                        1\n",
       "AERONET                                                   1\n",
       "IDMP                                                      1\n",
       "Name: count, dtype: int64"
      ]
     },
     "execution_count": 33,
     "metadata": {},
     "output_type": "execute_result"
    }
   ],
   "source": [
    "print('List of historical and active networks:')\n",
    "df['Network'].str.replace(' ','').str.split(';', expand=True).stack().value_counts()"
   ]
  },
  {
   "cell_type": "code",
   "execution_count": 49,
   "id": "8bc3f1ee-87e3-4c36-9cbe-b98e0e3e69b3",
   "metadata": {
    "tags": [
     "remove-cell"
    ]
   },
   "outputs": [
    {
     "data": {
      "image/png": "[encoded data removed]",
      "text/plain": [
       "<Figure size 360x216 with 1 Axes>"
      ]
     },
     "metadata": {
      "needs_background": "light"
     },
     "output_type": "display_data"
    }
   ],
   "source": [
    "# Stations per KG climate zone\n",
    "climate_zone = df.groupby('Koeppen Geiger climate zone').count()['Station full name'].sort_values(ascending=False)\n",
    "# plot\n",
    "fig, axes = plt.subplots(figsize=(5,3))\n",
    "climate_zone.plot.bar(zorder=2, width=0.3, rot=0)\n",
    "axes.set_ylim(0, climate_zone.iloc[0]+5)\n",
    "axes.set_yticks(np.arange(0,climate_zone.iloc[0]+50,50))\n",
    "axes.grid(alpha=0.5, which='both', axis='y', zorder=-1)\n",
    "axes.set_ylabel('Number of stations')\n",
    "axes.set_xlabel('')\n",
    "plt.show()"
   ]
  },
  {
   "cell_type": "markdown",
   "id": "63c9d23a-5d17-49ff-a250-1c6cb9045d1c",
   "metadata": {
    "tags": [
     "remove-cell"
    ]
   },
   "source": [
    "# Only active stations"
   ]
  },
  {
   "cell_type": "code",
   "execution_count": 47,
   "id": "99c5ce7c-b4be-447f-8fc4-92a90d211b01",
   "metadata": {
    "tags": [
     "remove-cell"
    ]
   },
   "outputs": [
    {
     "name": "stdout",
     "output_type": "stream",
     "text": [
      "The number of active stations: 420\n"
     ]
    }
   ],
   "source": [
    "# create a column indicating if a station is active\n",
    "df['Active'] = df['Time period'].str.endswith('-')\n",
    "# create a new dataframe containing only the active stations\n",
    "\n",
    "# REMOVE THE ==True WHEN THERE ARE NO NAN VALUES\n",
    "dfa = df.loc[df['Active']==True]\n",
    "print(f'The number of active stations: {len(dfa)}')"
   ]
  },
  {
   "cell_type": "code",
   "execution_count": 57,
   "id": "b2ae8652-f307-4d6a-93e9-96096cde02e1",
   "metadata": {
    "tags": [
     "remove-input"
    ]
   },
   "outputs": [
    {
     "data": {
      "image/png": "[encoded data removed]",
      "text/plain": [
       "<Figure size 360x216 with 1 Axes>"
      ]
     },
     "metadata": {
      "needs_background": "light"
     },
     "output_type": "display_data"
    }
   ],
   "source": [
    "# Top 5 active station countries\n",
    "countries_active = dfa.groupby('Country').count()['Station full name'].sort_values(ascending=False)[:5]\n",
    "# plot\n",
    "fig, axes = plt.subplots(figsize=(5,3))\n",
    "countries_active.plot.bar(zorder=2, width=0.3, rot=0)\n",
    "axes.set_yticks(np.arange(0, countries_active.iloc[0]+10, 10))\n",
    "axes.grid(alpha=0.5, which='both', axis='y', zorder=-1)\n",
    "axes.set_ylabel('Number of active stations')\n",
    "axes.set_xlabel('')\n",
    "axes.set_title('Top 5 countries')\n",
    "plt.figtext(0.5, -0.03, 'Top five countries with the most active stations.', wrap=True, horizontalalignment='center', fontsize=9);"
   ]
  },
  {
   "cell_type": "markdown",
   "id": "b13d1165-1f45-4d9a-8266-094e6c5a8358",
   "metadata": {},
   "source": [
    "It should be noted that the figure above shows only the active stations for each country. However, for many countries, there might have been an active netowrk in the past or some measurement campaign. These data are also included in solarstations and can be used as historical data. If the historical data were also to be used, then the top five countries with the most stations would be:\n",
    "* USA\n",
    "* India\n",
    "* Saudi Arabia\n",
    "* China\n",
    "* Chile"
   ]
  },
  {
   "cell_type": "code",
   "execution_count": 53,
   "id": "647217af-2516-49bb-8e16-4e6a23b6a76a",
   "metadata": {
    "tags": [
     "remove-input"
    ]
   },
   "outputs": [
    {
     "data": {
      "text/markdown": [
       "Most of the active stations belong to a network, which makes their data easier to access (as there is usually a website), and the stations are often better maintained. The 10 largest active networks are:\n",
       "* SRRA : 123 \n",
       "* ESMAP : 63 \n",
       "* BSRN : 60 \n",
       "* IOS-net : 15 \n",
       "* QEERI : 15 \n",
       "* AEMET : 14 \n",
       "* enerMENA : 10 \n",
       "* WMORRC : 10 \n",
       "* WMOGAW : 8 \n",
       "* SURFRAD : 7 \n",
       "* SOLRAD : 7 \n"
      ],
      "text/plain": [
       "<IPython.core.display.Markdown object>"
      ]
     },
     "execution_count": 53,
     "metadata": {},
     "output_type": "execute_result"
    }
   ],
   "source": [
    "networks = dfa['Network'].str.replace(' ','').str.split(';', expand=True).stack().value_counts()\n",
    "\n",
    "md(f\"Most of the active stations belong to a network, which makes their data easier to access (as there is usually a website), and the stations are often better maintained. The 10 largest active networks are:\\n\"\n",
    "   f'* {networks.index[0]} : {networks.iloc[0]} \\n'\n",
    "   f'* {networks.index[1]} : {networks.iloc[1]} \\n'\n",
    "   f'* {networks.index[2]} : {networks.iloc[2]} \\n'\n",
    "   f'* {networks.index[3]} : {networks.iloc[3]} \\n'\n",
    "   f'* {networks.index[4]} : {networks.iloc[4]} \\n'\n",
    "   f'* {networks.index[5]} : {networks.iloc[5]} \\n'\n",
    "   f'* {networks.index[6]} : {networks.iloc[6]} \\n'\n",
    "   f'* {networks.index[7]} : {networks.iloc[7]} \\n'\n",
    "   f'* {networks.index[8]} : {networks.iloc[8]} \\n'\n",
    "   f'* {networks.index[9]} : {networks.iloc[9]} \\n'\n",
    "   f'* {networks.index[10]} : {networks.iloc[10]} \\n'\n",
    ")"
   ]
  },
  {
   "cell_type": "markdown",
   "id": "50b5cc40-aa04-4342-8bde-e7ad7df41c9c",
   "metadata": {
    "tags": [
     "remove-cell"
    ]
   },
   "source": [
    "### Active stations per continent"
   ]
  },
  {
   "cell_type": "code",
   "execution_count": 56,
   "id": "9bf7fa00-c1a5-444d-89c6-4cf3c7261a98",
   "metadata": {
    "tags": [
     "remove-cell"
    ]
   },
   "outputs": [
    {
     "data": {
      "text/plain": [
       "Continent\n",
       "Africa            59\n",
       "Antarctica         6\n",
       "Asia             209\n",
       "Europe            55\n",
       "North America     60\n",
       "Oceania            9\n",
       "South America     16\n",
       "Name: Station full name, dtype: int64"
      ]
     },
     "execution_count": 56,
     "metadata": {},
     "output_type": "execute_result"
    }
   ],
   "source": [
    "continents = dfa.groupby('Continent').count().sort_values(by='Continent')['Station full name']\n",
    "continents"
   ]
  },
  {
   "cell_type": "code",
   "execution_count": 77,
   "id": "9fb9206e-e6fe-4081-89c8-1523d011f8a4",
   "metadata": {
    "tags": [
     "remove-input"
    ]
   },
   "outputs": [
    {
     "data": {
      "image/png": "[encoded data removed]",
      "text/plain": [
       "<Figure size 288x288 with 1 Axes>"
      ]
     },
     "metadata": {},
     "output_type": "display_data"
    }
   ],
   "source": [
    "fig, axes = plt.subplots(figsize=(4,4))\n",
    "\n",
    "pie = axes.pie(continents, autopct='%1.0f%%', pctdistance=0.85, startangle=34)\n",
    "axes.legend(continents.index, loc=2, bbox_to_anchor=(1,0.75), frameon=False)\n",
    "axes.set_title('Active stations per continent');"
   ]
  },
  {
   "cell_type": "code",
   "execution_count": 16,
   "id": "2c7ed994-3fcf-4361-a0ff-f1ce9bd14b04",
   "metadata": {
    "tags": [
     "remove-cell"
    ]
   },
   "outputs": [],
   "source": [
    "# land areas of contients per km^2 from Wikipedia\n",
    "continent_area={\n",
    "    'Asia':44614000,\n",
    "    'Africa':30365000,\n",
    "    'North America':24230000,\n",
    "    'South America':17814000,\n",
    "    'Antarctica':14200000,\n",
    "    'Europe':10000000,\n",
    "    'Oceania':8510926\n",
    "   }"
   ]
  },
  {
   "cell_type": "code",
   "execution_count": 17,
   "id": "1e764963-79f2-4f0c-93a1-32b0f4db512d",
   "metadata": {
    "tags": [
     "remove-cell"
    ]
   },
   "outputs": [],
   "source": [
    "station_per_km = pd.Series(dtype='float64')\n",
    "\n",
    "for i in continents.index:\n",
    "    station_per_km[i] = continents[i]/continent_area[i]*1000000 # this is stations per Tm^2"
   ]
  },
  {
   "cell_type": "code",
   "execution_count": 78,
   "id": "ed668803-1fd5-4a01-8c58-4512c0ef299f",
   "metadata": {
    "tags": [
     "remove-input"
    ]
   },
   "outputs": [
    {
     "data": {
      "image/png": "[encoded data removed]",
      "text/plain": [
       "<Figure size 360x216 with 1 Axes>"
      ]
     },
     "metadata": {
      "needs_background": "light"
     },
     "output_type": "display_data"
    }
   ],
   "source": [
    "fig, axes = plt.subplots(figsize=(5,3))\n",
    "station_per_km.sort_values(ascending=False).plot.bar(zorder=2, width=0.3, rot=90)\n",
    "axes.set_yticks(np.arange(0,station_per_km.sort_values(ascending=False).iloc[0]+1,1))\n",
    "axes.grid(alpha=0.5, which='both', axis='y', zorder=-1)\n",
    "axes.set_ylabel('Number of active stations')\n",
    "axes.set_xlabel('')\n",
    "axes.set_title('Stations per 10$^6$ m$^2$ per continent');"
   ]
  },
  {
   "cell_type": "code",
   "execution_count": 79,
   "id": "105efd6b-bcff-4278-b66a-979a6331c9bd",
   "metadata": {
    "tags": [
     "remove-input"
    ]
   },
   "outputs": [
    {
     "data": {
      "image/png": "[encoded data removed]",
      "text/plain": [
       "<Figure size 360x216 with 1 Axes>"
      ]
     },
     "metadata": {
      "needs_background": "light"
     },
     "output_type": "display_data"
    }
   ],
   "source": [
    "# Stations per KG climate zone\n",
    "climate_zone = dfa.groupby('Koeppen Geiger climate zone').count()['Station full name'].sort_values(ascending=False)\n",
    "# plot\n",
    "fig, axes = plt.subplots(figsize=(5,3))\n",
    "climate_zone.plot.bar(zorder=2, width=0.3, rot=0)\n",
    "axes.set_ylim(0, climate_zone.iloc[0]+5)\n",
    "axes.set_yticks(np.arange(0,climate_zone.iloc[0]+25,25))\n",
    "axes.grid(alpha=0.5, which='both', axis='y', zorder=-1)\n",
    "axes.set_ylabel('Number of active stations')\n",
    "axes.set_xlabel('')\n",
    "axes.set_title('Stations per Köppen–Geiger climate zone');"
   ]
  },
  {
   "cell_type": "markdown",
   "id": "eb55fc39-257a-4aeb-8c7c-863bfbd0711f",
   "metadata": {
    "tags": [
     "remove-cell"
    ]
   },
   "source": [
    "### Active stations and altitude"
   ]
  },
  {
   "cell_type": "code",
   "execution_count": 80,
   "id": "2530f36a-aac1-4590-840f-9cdf5fdc8798",
   "metadata": {
    "tags": [
     "remove-input"
    ]
   },
   "outputs": [
    {
     "data": {
      "image/png": "[encoded data removed]",
      "text/plain": [
       "<Figure size 360x216 with 1 Axes>"
      ]
     },
     "metadata": {
      "needs_background": "light"
     },
     "output_type": "display_data"
    }
   ],
   "source": [
    "stations_per_500m = dfa.groupby(pd.cut(dfa['Elevation'], np.arange(0, 9000, 500)), observed=False)['Station full name'].count()\n",
    "\n",
    "fig, axes = plt.subplots(figsize=(5, 3))\n",
    "stations_per_500m.plot.bar(zorder=2)\n",
    "axes.set_yticks(np.arange(0,stations_per_500m[1]+50,50))\n",
    "axes.grid(alpha=0.5, which='both', axis='y', zorder=-1)\n",
    "axes.set_ylabel('Number of active stations')\n",
    "axes.set_title('Stations per 500 m of elevation');"
   ]
  },
  {
   "cell_type": "code",
   "execution_count": 59,
   "id": "e42fd4a8-e57f-471d-a2ae-ed210209cb45",
   "metadata": {
    "tags": [
     "remove-input"
    ]
   },
   "outputs": [
    {
     "data": {
      "image/png": "[encoded data removed]",
      "text/plain": [
       "<Figure size 288x288 with 1 Axes>"
      ]
     },
     "metadata": {},
     "output_type": "display_data"
    }
   ],
   "source": [
    "# Station tier\n",
    "tier_rename = {1: 'Tier 1', 2: 'Tier 2'}\n",
    "\n",
    "fig, axes = plt.subplots(figsize=(4,4))\n",
    "dfa['Tier'].map(tier_rename).convert_dtypes().value_counts().\\\n",
    "    plot.pie(autopct='%1.0f%%')\n",
    "axes.set_ylabel('')\n",
    "axes.set_title('Station tier');"
   ]
  },
  {
   "cell_type": "markdown",
   "id": "0974d31b-827f-4082-ac4b-cf24a67193bf",
   "metadata": {},
   "source": [
    "The figure above shows the percentage of active stations categorized as either Tier 1 or Tier 2. It can be observed that most of the active stations are Tier 1, which means that they measure global horizontal irradiance (GHI), diffuse horizontal irradiance (DHI) using a shadow ball, and direct normal irradiance (DNI) using a pyrheliometer mounted on a solar tracker. For more information on the station tier classifications, see [the station requirements page](station_requirements).\n",
    "\n",
    "The number of stations measuring each irradiance component is presented in the figure below."
   ]
  },
  {
   "cell_type": "markdown",
   "id": "9ec7ebf2-5a8e-44e3-849f-643162c32cb9",
   "metadata": {
    "tags": [
     "remove-cell"
    ]
   },
   "source": [
    "### Components"
   ]
  },
  {
   "cell_type": "code",
   "execution_count": null,
   "id": "d0ac8e79-bdf4-4db3-be6d-5d06535c968e",
   "metadata": {
    "tags": [
     "remove-input"
    ]
   },
   "outputs": [],
   "source": [
    "component_dict = {\n",
    "    'G': 'GHI',\n",
    "    'D': 'DHI',\n",
    "    'B': 'DNI',\n",
    "}\n",
    "\n",
    "components = dfa['Components'].str.split(';', expand=True).stack().value_counts()\n",
    "components.reset_index().map(components_dict)\n",
    "\n",
    "fig, axes = plt.subplots(figsize=(7, 5))\n",
    "components.plot.bar(zorder=2)\n",
    "axes.set_yticks(np.arange(0,components.iloc[0]+50,50))\n",
    "axes.grid(alpha=0.5, which='both', axis='y', zorder=-1)\n",
    "axes.set_ylabel('Number of active stations')\n",
    "axes.set_title('Irradiance components measured');\n",
    "components"
   ]
  },
  {
   "cell_type": "code",
   "execution_count": 72,
   "id": "19f045d8-5955-4741-928a-16fd5910476d",
   "metadata": {
    "tags": [
     "remove-input"
    ]
   },
   "outputs": [
    {
     "data": {
      "text/plain": [
       "G         366\n",
       "D         357\n",
       "B         352\n",
       "IR         36\n",
       "UV         29\n",
       "PAR        14\n",
       "RSI         8\n",
       "GTI         2\n",
       "Albedo      2\n",
       "RSR         1\n",
       "Name: count, dtype: int64"
      ]
     },
     "execution_count": 72,
     "metadata": {},
     "output_type": "execute_result"
    }
   ],
   "source": [
    "dfa['Components'].str.split(';', expand=True).stack().value_counts()"
   ]
  },
  {
   "cell_type": "markdown",
   "id": "b1362fb3-40cb-4035-915b-50617ec537b3",
   "metadata": {
    "tags": [
     "remove-cell"
    ]
   },
   "source": [
    "### Active stations that have data freely available"
   ]
  },
  {
   "cell_type": "code",
   "execution_count": 73,
   "id": "ee5e4f4d-9c03-49d1-ad82-2fb0a11bf218",
   "metadata": {
    "tags": [
     "remove-cell"
    ]
   },
   "outputs": [],
   "source": [
    "df_un = dfa[(dfa['Data availability'].isna()) | (dfa['Data availability']=='Not available')]\n",
    "df_av = dfa[(dfa['Data availability']=='Freely') | (dfa['Data availability']=='Free')]\n",
    "df_req = dfa[dfa['Data availability']=='Upon request']"
   ]
  },
  {
   "cell_type": "code",
   "execution_count": 75,
   "id": "71f3bc3b-a4ee-428f-9f41-e84cefd7dd45",
   "metadata": {
    "tags": [
     "remove-input"
    ]
   },
   "outputs": [
    {
     "data": {
      "text/markdown": [
       "Finding and downloading data from solar stations can be a tedious process. The main reason is that, most times, there is no information on how to obtain the data. There are 207 active stations where data can be freely donwloaded and 179 stations for which there is no data access. The figure below gives the corresponding percentages."
      ],
      "text/plain": [
       "<IPython.core.display.Markdown object>"
      ]
     },
     "execution_count": 75,
     "metadata": {},
     "output_type": "execute_result"
    }
   ],
   "source": [
    "md(f'Finding and downloading data from solar stations can be a tedious process. The main reason is that, most times, there is no information on how to obtain the data. '\n",
    "   f'There are {len(df_av)} active stations where data can be freely donwloaded and {len(df_un)} stations for which there is no data access. The figure below gives the corresponding percentages.')"
   ]
  },
  {
   "cell_type": "code",
   "execution_count": 76,
   "id": "46e9f53a-6b90-4baa-9d28-b934754bdfe6",
   "metadata": {
    "tags": [
     "remove-input"
    ]
   },
   "outputs": [
    {
     "data": {
      "image/png": "[encoded data removed]",
      "text/plain": [
       "<Figure size 432x288 with 1 Axes>"
      ]
     },
     "metadata": {},
     "output_type": "display_data"
    }
   ],
   "source": [
    "fig, axes = plt.subplots()\n",
    "\n",
    "axes.pie([len(df_av), len(df_req), len(df_un)], labels=['Freely\\navailable','Upon\\nrequest','Unavailable'], \n",
    "         colors=['C2','C0','C1'], autopct='%1.0f%%', startangle=90)\n",
    "axes.set_title('Data availability');"
   ]
  },
  {
   "cell_type": "code",
   "execution_count": null,
   "id": "40d93605-27ed-44ec-926a-e96d1ec3d1e4",
   "metadata": {},
   "outputs": [],
   "source": []
  }
 ],
 "metadata": {
  "kernelspec": {
   "display_name": "Python 3 (ipykernel)",
   "language": "python",
   "name": "python3"
  },
  "language_info": {
   "codemirror_mode": {
    "name": "ipython",
    "version": 3
   },
   "file_extension": ".py",
   "mimetype": "text/x-python",
   "name": "python",
   "nbconvert_exporter": "python",
   "pygments_lexer": "ipython3",
   "version": "3.10.4"
  }
 },
 "nbformat": 4,
 "nbformat_minor": 5
}
