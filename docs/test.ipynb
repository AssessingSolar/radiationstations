{
 "cells": [
  {
   "cell_type": "code",
   "execution_count": null,
   "id": "2ead34ff-1958-4f85-9a8a-a7437e8d0f8f",
   "metadata": {},
   "outputs": [],
   "source": [
    "print(os.environ.get(\"BSRN_FTP_USERNAME\"))"
   ]
  }
 ],
 "metadata": {
  "kernelspec": {
   "display_name": "Python 3 (ipykernel)",
   "language": "python",
   "name": "python3"
  },
  "language_info": {
   "codemirror_mode": {
    "name": "ipython",
    "version": 3
   },
   "file_extension": ".py",
   "mimetype": "text/x-python",
   "name": "python",
   "nbconvert_exporter": "python",
   "pygments_lexer": "ipython3",
   "version": "3.9.12"
  }
 },
 "nbformat": 4,
 "nbformat_minor": 5
}
