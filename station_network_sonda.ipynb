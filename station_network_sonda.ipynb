{
 "cells": [
  {
   "cell_type": "markdown",
   "id": "5de2515b-bf02-4320-8fc0-362a32e23176",
   "metadata": {},
   "source": [
    "# SONDA\n",
    "\n",
    "\n",
    "\n",
    " the Brazilian National Institute for Space Research (INPE)\n",
    " \n",
    " \n",
    " Some of them are BSRN stations.\n",
    " \n",
    " Irradinace is also measured at the INMET network, howevever, these data are only logged as hourly averages."
   ]
  },
  {
   "cell_type": "code",
   "execution_count": null,
   "id": "438f8cac-8314-4c51-8fbd-208039380cb6",
   "metadata": {},
   "outputs": [],
   "source": []
  },
  {
   "cell_type": "code",
   "execution_count": null,
   "id": "5433fc40-dc48-41c3-9160-f800b8ffc1f1",
   "metadata": {},
   "outputs": [],
   "source": []
  },
  {
   "cell_type": "code",
   "execution_count": null,
   "id": "b103042e-77b6-4e77-8d3b-8f9cc24c41ea",
   "metadata": {},
   "outputs": [],
   "source": []
  },
  {
   "cell_type": "code",
   "execution_count": null,
   "id": "26774d5f-e8d8-4069-acf3-97eaa272ef92",
   "metadata": {},
   "outputs": [],
   "source": []
  }
 ],
 "metadata": {
  "kernelspec": {
   "display_name": "Python 3 (ipykernel)",
   "language": "python",
   "name": "python3"
  },
  "language_info": {
   "codemirror_mode": {
    "name": "ipython",
    "version": 3
   },
   "file_extension": ".py",
   "mimetype": "text/x-python",
   "name": "python",
   "nbconvert_exporter": "python",
   "pygments_lexer": "ipython3",
   "version": "3.7.10"
  }
 },
 "nbformat": 4,
 "nbformat_minor": 5
}
