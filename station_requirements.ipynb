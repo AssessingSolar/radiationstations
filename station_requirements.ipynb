{
 "cells": [
  {
   "cell_type": "markdown",
   "metadata": {},
   "source": [
    "# Station requirements and categorization\n",
    "\n",
    "This sections defines the minimum requirements for a station to be included in in the list of high-quality solar radiation monitoring stations. The most restricting criteria is that all stations are required to measure at least two of the three irradiance components, such that the last component can be calculated.\n",
    "\n",
    "## Station categorization\n",
    "The stations are subdivided into two different categories: Tier 1 and Tier 2 stations.\n",
    "\n",
    "### Tier 1 stations\n",
    "Tier 1 stations are defined as those that meet all of the following requirements:\n",
    "* measurement of direct normal irradiance (DNI) with a Class A thermopile pyrheliometer mounted on a solar tracker\n",
    "* measurement of diffuse horizontal irradiance (DHI) with a Spectrally Flat Class A thermopile pyranometer shaded by a shading ball\n",
    "* measurement of global horizontal irradiance (GHI) with a Spectrally Flat Class A thermopile pyranometer\n",
    "\n",
    "Seperate measurement of GHI is required for Tier 1 stations as most quality control procedures relies on comparing the measured and calculated GHI (closure equation). The stations in the [BSRN](https://bsrn.awi.de/) network are examples of Tier 1 stations.\n",
    "\n",
    "### Tier 2 stations\n",
    "Tier 2 stations are defined as those that do not meet the Tier 1 requirements but meet one of the following specifications:\n",
    "* Meets two of the three requirements of Tier 1 stations\n",
    "* Measures GHI and DHI using a rotating shading band pyranometer\n",
    "\n",
    "### Non-qualifying stations\n",
    "Stations that measure DHI using a manually ajusted shadow band are not considered, as such measurements are notoriously unreliable due to the shadow band having to be adjusted every few days.\n",
    "\n",
    "## Station metadata\n",
    "The central part of the catalog is the list of stations and their metadata, which as a minimum should include:\n",
    "* Latitude, longitude, and elevation (according to ISO format)\n",
    "* Years of operation\n",
    "* City and Country\n",
    "* Station name\n",
    "* Station abbreviation\n",
    "* Station network (e.g., BSRN, SURFRAD)\n",
    "* Link to the station or network website (multiple links?)\n",
    "\n"
   ]
  },
  {
   "cell_type": "code",
   "execution_count": null,
   "metadata": {},
   "outputs": [],
   "source": []
  }
 ],
 "metadata": {
  "kernelspec": {
   "display_name": "Python 3",
   "language": "python",
   "name": "python3"
  },
  "language_info": {
   "codemirror_mode": {
    "name": "ipython",
    "version": 3
   },
   "file_extension": ".py",
   "mimetype": "text/x-python",
   "name": "python",
   "nbconvert_exporter": "python",
   "pygments_lexer": "ipython3",
   "version": "3.8.5"
  }
 },
 "nbformat": 4,
 "nbformat_minor": 5
}
